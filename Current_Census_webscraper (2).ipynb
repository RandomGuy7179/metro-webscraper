{
 "cells": [
  {
   "cell_type": "markdown",
   "metadata": {
    "id": "T9JYtaTGX9kT"
   },
   "source": [
    "## Setup"
   ]
  },
  {
   "cell_type": "code",
   "execution_count": 1,
   "metadata": {
    "colab": {
     "base_uri": "https://localhost:8080/"
    },
    "executionInfo": {
     "elapsed": 735,
     "status": "ok",
     "timestamp": 1678284568497,
     "user": {
      "displayName": "Hector Penado Jr.",
      "userId": "07507206677561105033"
     },
     "user_tz": 480
    },
    "id": "YpwBvP7he5aN",
    "outputId": "3164d75c-7de3-4a89-cfbb-d7cf11374df7",
    "scrolled": true
   },
   "outputs": [],
   "source": [
    "#libraries needed to run code\n",
    "from bs4 import BeautifulSoup\n",
    "\n",
    "import pandas as pd, requests, time, random\n",
    "\n",
    "from selenium import webdriver"
   ]
  },
  {
   "cell_type": "markdown",
   "metadata": {
    "id": "IC8AyBGoY3gx"
   },
   "source": [
    "## Initial Prep"
   ]
  },
  {
   "cell_type": "code",
   "execution_count": 7,
   "metadata": {
    "colab": {
     "base_uri": "https://localhost:8080/"
    },
    "executionInfo": {
     "elapsed": 1987,
     "status": "ok",
     "timestamp": 1678284591258,
     "user": {
      "displayName": "Hector Penado Jr.",
      "userId": "07507206677561105033"
     },
     "user_tz": 480
    },
    "id": "uXnvU-sEBA1A",
    "outputId": "c104795b-e620-4179-af8c-6cf175b91ade"
   },
   "outputs": [
    {
     "name": "stdout",
     "output_type": "stream",
     "text": [
      "There are 75 locations to search for.\n"
     ]
    }
   ],
   "source": [
    "# reads in the excel data sheet\n",
    "# set workbook to excel file name \n",
    "workbook = 'Hector_ExcelTest.xlsx'\n",
    "table = pd.read_excel(workbook)\n",
    "\n",
    "#checks for missing cells in each column\n",
    "city = table['City'].isnull().values.any()\n",
    "state = table['State'].isnull().values.any()\n",
    "\n",
    "#conditional checks to see if either City or State columns are missing values\n",
    "if city or state:\n",
    "  print(\"Check 'City', 'State' columns for blanks\")\n",
    "else:\n",
    "    #combining city and state column into 'city, state' format for searching\n",
    "    table['Location'] = table['City'] + ', ' + table['State']\n",
    "    # gets unique list of locations\n",
    "    unique_locations = table['Location'].unique()\n",
    "    number_of_locations = len(unique_locations)\n",
    "    print(f'There are {number_of_locations} locations to search for.')"
   ]
  },
  {
   "cell_type": "markdown",
   "metadata": {
    "id": "U0bNicnlXoaz"
   },
   "source": [
    "## Webscraping portion"
   ]
  },
  {
   "cell_type": "code",
   "execution_count": 8,
   "metadata": {
    "colab": {
     "base_uri": "https://localhost:8080/"
    },
    "executionInfo": {
     "elapsed": 663673,
     "status": "ok",
     "timestamp": 1678285261620,
     "user": {
      "displayName": "Hector Penado Jr.",
      "userId": "07507206677561105033"
     },
     "user_tz": 480
    },
    "id": "g7LpweLXBoOV",
    "outputId": "51faa939-dd23-4723-d3d4-4bf12cf3845c"
   },
   "outputs": [
    {
     "name": "stdout",
     "output_type": "stream",
     "text": [
      "Estimated runtime between 5.0 and 10.0 minutes.\n"
     ]
    },
    {
     "data": {
      "text/plain": [
       "{'Placentia, CA': 'Los Angeles-Long Beach-Anaheim, CA Metro Area',\n",
       " 'Costa Mesa, CA': 'Los Angeles-Long Beach-Anaheim, CA Metro Area',\n",
       " 'Garden Grove, CA': 'Los Angeles-Long Beach-Anaheim, CA Metro Area',\n",
       " 'Santa Ana, CA': 'Los Angeles-Long Beach-Anaheim, CA Metro Area',\n",
       " 'Haymaket, VA': 'Haymaket, VA was not found',\n",
       " 'El Monte, CA': 'Los Angeles-Long Beach-Anaheim, CA Metro Area',\n",
       " 'Beaumont, CA': 'Riverside-San Bernardino-Ontario, CA Metro Area',\n",
       " 'Corona, CA': 'Riverside-San Bernardino-Ontario, CA Metro Area',\n",
       " 'Newport Beach, CA': 'Los Angeles-Long Beach-Anaheim, CA Metro Area',\n",
       " 'Westminster, CA': 'Los Angeles-Long Beach-Anaheim, CA Metro Area',\n",
       " 'Lake Elsinore, CA': 'Riverside-San Bernardino-Ontario, CA Metro Area',\n",
       " 'Laguna Hills, CA': 'Los Angeles-Long Beach-Anaheim, CA Metro Area',\n",
       " 'Lake Forest, CA': 'Los Angeles-Long Beach-Anaheim, CA Metro Area',\n",
       " 'Bellflower, CA': 'Los Angeles-Long Beach-Anaheim, CA Metro Area',\n",
       " 'Moreno Valley, CA': 'Riverside-San Bernardino-Ontario, CA Metro Area',\n",
       " 'Anaheim, CA': 'Los Angeles-Long Beach-Anaheim, CA Metro Area',\n",
       " 'Mesquite, TX': 'Dallas-Fort Worth-Arlington, TX Metro Area',\n",
       " 'Katy, TX': 'Houston-The Woodlands-Sugar Land, TX Metro Area',\n",
       " 'Aliso Viejo, CA': 'Los Angeles-Long Beach-Anaheim, CA Metro Area',\n",
       " 'Fullerton, CA': 'Los Angeles-Long Beach-Anaheim, CA Metro Area',\n",
       " 'Fountain Valley, CA': 'Los Angeles-Long Beach-Anaheim, CA Metro Area',\n",
       " 'Mission Viejo, CA': 'Los Angeles-Long Beach-Anaheim, CA Metro Area',\n",
       " 'Anaheim Hills, CA': 'Anaheim Hills, CA was not found',\n",
       " 'Huntington Beach, CA': 'Los Angeles-Long Beach-Anaheim, CA Metro Area',\n",
       " 'Orange, CA': 'California,United States',\n",
       " 'Irvine, CA': 'Los Angeles-Long Beach-Anaheim, CA Metro Area',\n",
       " 'Hampshire, IL': 'Chicago-Naperville-Elgin, IL-IN-WI Metro Area',\n",
       " 'La Habra, CA': 'Los Angeles-Long Beach-Anaheim, CA Metro Area',\n",
       " 'Baldwin Park,, CA': 'Los Angeles-Long Beach-Anaheim, CA Metro Area',\n",
       " 'Pico Rivera, CA': 'Los Angeles-Long Beach-Anaheim, CA Metro Area',\n",
       " 'South Gate, CA': 'Los Angeles-Long Beach-Anaheim, CA Metro Area',\n",
       " 'Laguna Beach, CA': 'Los Angeles-Long Beach-Anaheim, CA Metro Area',\n",
       " 'Springfield, VA': 'Washington-Arlington-Alexandria, DC-VA-MD-WV Metro Area',\n",
       " 'Buena Park, CA': 'Los Angeles-Long Beach-Anaheim, CA Metro Area',\n",
       " 'Pomona, CA': 'Los Angeles-Long Beach-Anaheim, CA Metro Area',\n",
       " 'Los Angeles, CA': 'Los Angeles-Long Beach-Anaheim, CA Metro Area',\n",
       " 'Riverside, CA': 'Riverside-San Bernardino-Ontario, CA Metro Area',\n",
       " 'Long Beach, CA': 'Los Angeles-Long Beach-Anaheim, CA Metro Area',\n",
       " 'Carson, CA': 'Los Angeles-Long Beach-Anaheim, CA Metro Area',\n",
       " 'Quail Valley, CA': 'Quail Valley, CA was not found',\n",
       " 'Whittier, CA': 'Los Angeles-Long Beach-Anaheim, CA Metro Area',\n",
       " 'Houston, TX': 'Houston-The Woodlands-Sugar Land, TX Metro Area',\n",
       " 'Norwalk, CA': 'Los Angeles-Long Beach-Anaheim, CA Metro Area',\n",
       " 'Perris, CA': 'Riverside-San Bernardino-Ontario, CA Metro Area',\n",
       " 'San Dimas, CA': 'Los Angeles-Long Beach-Anaheim, CA Metro Area',\n",
       " 'San Juan Capistrano, CA': 'Los Angeles-Long Beach-Anaheim, CA Metro Area',\n",
       " 'Frisco, TX': 'Dallas-Fort Worth-Arlington, TX Metro Area',\n",
       " \"Tom's River, NJ\": \"Tom's River, NJ was not found\",\n",
       " 'Austin, TX': 'Austin-Round Rock-Georgetown, TX Metro Area',\n",
       " 'Hesperia, CA': 'Riverside-San Bernardino-Ontario, CA Metro Area',\n",
       " 'La Puente, CA': 'Los Angeles-Long Beach-Anaheim, CA Metro Area',\n",
       " 'Tustin, CA': 'Los Angeles-Long Beach-Anaheim, CA Metro Area',\n",
       " 'Stevensville, MD': 'Baltimore-Columbia-Towson, MD Metro Area',\n",
       " 'Bartlett, IL': 'Chicago-Naperville-Elgin, IL-IN-WI Metro Area',\n",
       " 'Grand Terrace, CA': 'Riverside-San Bernardino-Ontario, CA Metro Area',\n",
       " 'Stanton, CA': 'Los Angeles-Long Beach-Anaheim, CA Metro Area',\n",
       " 'Wildomar, CA': 'Riverside-San Bernardino-Ontario, CA Metro Area',\n",
       " 'S J Capistrano, CA': 'S J Capistrano, CA was not found',\n",
       " 'Laguna Woods, CA': 'Los Angeles-Long Beach-Anaheim, CA Metro Area',\n",
       " 'Hemet, CA': 'Riverside-San Bernardino-Ontario, CA Metro Area',\n",
       " 'Pearland, TX': 'Houston-The Woodlands-Sugar Land, TX Metro Area',\n",
       " 'Trabuco Canyon, CA': 'Los Angeles-Long Beach-Anaheim, CA Metro Area',\n",
       " 'San Jacinto, CA': 'Riverside-San Bernardino-Ontario, CA Metro Area',\n",
       " 'Murrieta, CA': 'Riverside-San Bernardino-Ontario, CA Metro Area',\n",
       " 'Naperville, IL': 'Chicago-Naperville-Elgin, IL-IN-WI Metro Area',\n",
       " 'Addison, TX': 'Dallas-Fort Worth-Arlington, TX Metro Area',\n",
       " 'Elgin, IL': 'Chicago-Naperville-Elgin, IL-IN-WI Metro Area',\n",
       " 'Chino, CA': 'Riverside-San Bernardino-Ontario, CA Metro Area',\n",
       " 'Chino Hills, CA': 'Riverside-San Bernardino-Ontario, CA Metro Area',\n",
       " 'Rowlett, TX': 'Dallas-Fort Worth-Arlington, TX Metro Area',\n",
       " 'La Palma, CA': 'Los Angeles-Long Beach-Anaheim, CA Metro Area',\n",
       " 'Fontana, CA': 'Riverside-San Bernardino-Ontario, CA Metro Area',\n",
       " 'Brea, CA': 'Los Angeles-Long Beach-Anaheim, CA Metro Area',\n",
       " 'Charlotte, NC': 'Charlotte-Concord-Gastonia, NC-SC Metro Area',\n",
       " 'Sycamore, IL': 'Chicago-Naperville-Elgin, IL-IN-WI Metro Area'}"
      ]
     },
     "execution_count": 8,
     "metadata": {},
     "output_type": "execute_result"
    }
   ],
   "source": [
    "#prints estimated runtime\n",
    "shortest = round(((number_of_locations * 1) + (number_of_locations * 3)) / 60,1)\n",
    "longest = round(((number_of_locations * 3) + (number_of_locations * 5)) / 60,1)\n",
    "\n",
    "print(f'Estimated runtime between {shortest} and {longest} minutes.')\n",
    "\n",
    "\n",
    "wd = webdriver.Chrome('./chromedriver')\n",
    "\n",
    "#dictionary that stores url for each city,state\n",
    "sites = {}\n",
    "for location in unique_locations:\n",
    "  #gets html info from query search of location into census reporter\n",
    "  url = \"https://censusreporter.org/search/?q=\"\n",
    "  wd.get(url+ location)\n",
    "  time.sleep(random.randint(1, 3))\n",
    "  #gets html page of search query for current location\n",
    "  html = wd.execute_script(\"return document.documentElement.outerHTML\")\n",
    "  soup = BeautifulSoup(html)\n",
    "  \n",
    "  #checks to see if there is an h3 tag. If there isn't, that means that the city,state entered don't exist.\n",
    "  #otherwise, get the first result from the search page.\n",
    "  if soup.find('h3') == None:\n",
    "    sites[location] = 'not found'\n",
    "  else:\n",
    "    location_site = soup.find('h3').find('a').get('href')\n",
    "    sites[location] = location_site\n",
    "\n",
    "\n",
    "#dictionary that stores the metro areas for each city,state\n",
    "location_info = {}\n",
    "test = {}\n",
    "# gets the metro areas,county, or micro area if available. Return state if not.\n",
    "for location in sites.keys():\n",
    "  #for city,states that weren't found in the loop above\n",
    "  if sites[location] == 'not found':\n",
    "    location_info[location] = f'{location} was not found'\n",
    "  else:\n",
    "    wd.get(sites[location])\n",
    "    time.sleep(random.randint(3, 5))\n",
    "    html = wd.execute_script(\"return document.documentElement.outerHTML\")\n",
    "    soup = BeautifulSoup(html)\n",
    "    #data stores all of the location info that is were the metro area is stored on census reporter\n",
    "    data = soup.find('header',class_='column-full').find('p').find_all('a')\n",
    "    test[location] = data\n",
    "    #position is the dictionary used to keep track of where in list info certain information is\n",
    "    position = {}\n",
    "    info = []\n",
    "    #for loop for getting the location text we want from the data variable\n",
    "    for x,loc_info in enumerate(data):\n",
    "      #each conditional statement checks to see at what position the metro/micro/county info is located and keeps track of it in dictionary position\n",
    "      if 'Metro' in loc_info.text:\n",
    "        position['Metro'] = x\n",
    "      elif 'Micro' in loc_info.text:\n",
    "        position['Micro'] = x\n",
    "      elif 'County' in loc_info.text:\n",
    "        position['County'] = x\n",
    "      else:\n",
    "        position[loc_info.text] = x\n",
    "      info.append(loc_info.text)\n",
    "\n",
    "#returns either metro, county, micro, or all available info depending on the following checks  \n",
    "    if \"Metro\" in position:\n",
    "      location_info[location] = info[position[\"Metro\"]]\n",
    "    elif \"Micro\" in position:\n",
    "      location_info[location] = info[position['Micro']]\n",
    "    elif \"County\" in position:\n",
    "      location_info[location] = info[position['County']]\n",
    "    else:\n",
    "      location_info[location] = \",\".join(info)\n",
    "\n",
    "#dictionary containing all the locations and their metro areas\n",
    "location_info"
   ]
  },
  {
   "cell_type": "markdown",
   "metadata": {},
   "source": [
    "## Creating new column with metro areas"
   ]
  },
  {
   "cell_type": "code",
   "execution_count": 13,
   "metadata": {
    "colab": {
     "base_uri": "https://localhost:8080/",
     "height": 423
    },
    "executionInfo": {
     "elapsed": 148,
     "status": "ok",
     "timestamp": 1678285274897,
     "user": {
      "displayName": "Hector Penado Jr.",
      "userId": "07507206677561105033"
     },
     "user_tz": 480
    },
    "id": "3qNCXoElaA1c",
    "outputId": "bc9d08da-3f6d-42e7-d8d6-915379e09628"
   },
   "outputs": [
    {
     "data": {
      "text/html": [
       "<div>\n",
       "<style scoped>\n",
       "    .dataframe tbody tr th:only-of-type {\n",
       "        vertical-align: middle;\n",
       "    }\n",
       "\n",
       "    .dataframe tbody tr th {\n",
       "        vertical-align: top;\n",
       "    }\n",
       "\n",
       "    .dataframe thead th {\n",
       "        text-align: right;\n",
       "    }\n",
       "</style>\n",
       "<table border=\"1\" class=\"dataframe\">\n",
       "  <thead>\n",
       "    <tr style=\"text-align: right;\">\n",
       "      <th></th>\n",
       "      <th>City</th>\n",
       "      <th>State</th>\n",
       "      <th>Metro Area</th>\n",
       "    </tr>\n",
       "  </thead>\n",
       "  <tbody>\n",
       "    <tr>\n",
       "      <th>0</th>\n",
       "      <td>Placentia</td>\n",
       "      <td>CA</td>\n",
       "      <td>Los Angeles-Long Beach-Anaheim, CA Metro Area</td>\n",
       "    </tr>\n",
       "    <tr>\n",
       "      <th>1</th>\n",
       "      <td>Costa Mesa</td>\n",
       "      <td>CA</td>\n",
       "      <td>Los Angeles-Long Beach-Anaheim, CA Metro Area</td>\n",
       "    </tr>\n",
       "    <tr>\n",
       "      <th>2</th>\n",
       "      <td>Garden Grove</td>\n",
       "      <td>CA</td>\n",
       "      <td>Los Angeles-Long Beach-Anaheim, CA Metro Area</td>\n",
       "    </tr>\n",
       "    <tr>\n",
       "      <th>3</th>\n",
       "      <td>Santa Ana</td>\n",
       "      <td>CA</td>\n",
       "      <td>Los Angeles-Long Beach-Anaheim, CA Metro Area</td>\n",
       "    </tr>\n",
       "    <tr>\n",
       "      <th>4</th>\n",
       "      <td>Costa Mesa</td>\n",
       "      <td>CA</td>\n",
       "      <td>Los Angeles-Long Beach-Anaheim, CA Metro Area</td>\n",
       "    </tr>\n",
       "    <tr>\n",
       "      <th>...</th>\n",
       "      <td>...</td>\n",
       "      <td>...</td>\n",
       "      <td>...</td>\n",
       "    </tr>\n",
       "    <tr>\n",
       "      <th>393</th>\n",
       "      <td>Garden Grove</td>\n",
       "      <td>CA</td>\n",
       "      <td>Los Angeles-Long Beach-Anaheim, CA Metro Area</td>\n",
       "    </tr>\n",
       "    <tr>\n",
       "      <th>394</th>\n",
       "      <td>Costa Mesa</td>\n",
       "      <td>CA</td>\n",
       "      <td>Los Angeles-Long Beach-Anaheim, CA Metro Area</td>\n",
       "    </tr>\n",
       "    <tr>\n",
       "      <th>395</th>\n",
       "      <td>Riverside</td>\n",
       "      <td>CA</td>\n",
       "      <td>Riverside-San Bernardino-Ontario, CA Metro Area</td>\n",
       "    </tr>\n",
       "    <tr>\n",
       "      <th>396</th>\n",
       "      <td>Costa Mesa</td>\n",
       "      <td>CA</td>\n",
       "      <td>Los Angeles-Long Beach-Anaheim, CA Metro Area</td>\n",
       "    </tr>\n",
       "    <tr>\n",
       "      <th>397</th>\n",
       "      <td>Perris</td>\n",
       "      <td>CA</td>\n",
       "      <td>Riverside-San Bernardino-Ontario, CA Metro Area</td>\n",
       "    </tr>\n",
       "  </tbody>\n",
       "</table>\n",
       "<p>398 rows × 3 columns</p>\n",
       "</div>"
      ],
      "text/plain": [
       "             City State                                       Metro Area\n",
       "0       Placentia    CA    Los Angeles-Long Beach-Anaheim, CA Metro Area\n",
       "1      Costa Mesa    CA    Los Angeles-Long Beach-Anaheim, CA Metro Area\n",
       "2    Garden Grove    CA    Los Angeles-Long Beach-Anaheim, CA Metro Area\n",
       "3       Santa Ana    CA    Los Angeles-Long Beach-Anaheim, CA Metro Area\n",
       "4      Costa Mesa    CA    Los Angeles-Long Beach-Anaheim, CA Metro Area\n",
       "..            ...   ...                                              ...\n",
       "393  Garden Grove    CA    Los Angeles-Long Beach-Anaheim, CA Metro Area\n",
       "394    Costa Mesa    CA    Los Angeles-Long Beach-Anaheim, CA Metro Area\n",
       "395     Riverside    CA  Riverside-San Bernardino-Ontario, CA Metro Area\n",
       "396    Costa Mesa    CA    Los Angeles-Long Beach-Anaheim, CA Metro Area\n",
       "397        Perris    CA  Riverside-San Bernardino-Ontario, CA Metro Area\n",
       "\n",
       "[398 rows x 3 columns]"
      ]
     },
     "execution_count": 13,
     "metadata": {},
     "output_type": "execute_result"
    }
   ],
   "source": [
    "#function that maps metro areas to all locations (City,states) in the data. \n",
    "def metro_area(loc,loc_info):\n",
    "  # if location in location_info dictionary, return its metro area. Else, return its State.\n",
    "  return loc_info[loc] if loc in loc_info else loc.split(', ')[1]\n",
    "\n",
    "#applying the function above to the snapshot data\n",
    "table['Metro Area'] = table['Location'].apply(metro_area, args = [location_info])\n",
    "table[['City','State','Metro Area']]"
   ]
  },
  {
   "cell_type": "markdown",
   "metadata": {
    "id": "lUSx2XjrdMXT"
   },
   "source": [
    "## Output"
   ]
  },
  {
   "cell_type": "code",
   "execution_count": 11,
   "metadata": {
    "executionInfo": {
     "elapsed": 2287,
     "status": "ok",
     "timestamp": 1678285282158,
     "user": {
      "displayName": "Hector Penado Jr.",
      "userId": "07507206677561105033"
     },
     "user_tz": 480
    },
    "id": "j5lbeqzScYH_"
   },
   "outputs": [],
   "source": [
    "#outputs copy of the data with addition of metro area column\n",
    "table.to_excel(\"output.xlsx\", index = False) "
   ]
  },
  {
   "cell_type": "code",
   "execution_count": null,
   "metadata": {},
   "outputs": [],
   "source": []
  }
 ],
 "metadata": {
  "colab": {
   "provenance": []
  },
  "kernelspec": {
   "display_name": "Python 3 (ipykernel)",
   "language": "python",
   "name": "python3"
  },
  "language_info": {
   "codemirror_mode": {
    "name": "ipython",
    "version": 3
   },
   "file_extension": ".py",
   "mimetype": "text/x-python",
   "name": "python",
   "nbconvert_exporter": "python",
   "pygments_lexer": "ipython3",
   "version": "3.10.9"
  }
 },
 "nbformat": 4,
 "nbformat_minor": 1
}
