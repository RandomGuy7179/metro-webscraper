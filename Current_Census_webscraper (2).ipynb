{
 "cells": [
  {
   "cell_type": "code",
   "execution_count": 1,
   "metadata": {
    "id": "_Cmei9G6jGh6"
   },
   "outputs": [],
   "source": [
    "#changes:\n",
    "#     - 1_22_23 - used Service to call in webdriver without the deprecation warning.\n",
    "#     - added check to look for null values in city,state, EEO columns"
   ]
  },
  {
   "cell_type": "markdown",
   "metadata": {
    "id": "T9JYtaTGX9kT"
   },
   "source": [
    "## Setup"
   ]
  },
  {
   "cell_type": "code",
   "execution_count": 2,
   "metadata": {
    "colab": {
     "base_uri": "https://localhost:8080/"
    },
    "executionInfo": {
     "elapsed": 735,
     "status": "ok",
     "timestamp": 1678284568497,
     "user": {
      "displayName": "Hector Penado Jr.",
      "userId": "07507206677561105033"
     },
     "user_tz": 480
    },
    "id": "YpwBvP7he5aN",
    "outputId": "3164d75c-7de3-4a89-cfbb-d7cf11374df7",
    "scrolled": true
   },
   "outputs": [],
   "source": [
    "#libraries needed to run code\n",
    "from bs4 import BeautifulSoup\n",
    "\n",
    "import pandas as pd, requests, time, random\n",
    "\n",
    "from selenium import webdriver\n",
    "#from selenium.webdriver.chrome.options import Options\n",
    "#from selenium.webdriver.chrome.service import Service\n",
    "\n",
    "#options = Options()\n",
    "#options.add_argument(\"--headless\")\n",
    "#options.add_argument(\"--no-sandbox\")\n",
    "\n",
    "#causes deprecation warning\n",
    "#options.headless = True\n"
   ]
  },
  {
   "cell_type": "markdown",
   "metadata": {
    "id": "IC8AyBGoY3gx"
   },
   "source": [
    "## Webscraper"
   ]
  },
  {
   "cell_type": "code",
   "execution_count": 4,
   "metadata": {
    "colab": {
     "base_uri": "https://localhost:8080/"
    },
    "executionInfo": {
     "elapsed": 1987,
     "status": "ok",
     "timestamp": 1678284591258,
     "user": {
      "displayName": "Hector Penado Jr.",
      "userId": "07507206677561105033"
     },
     "user_tz": 480
    },
    "id": "uXnvU-sEBA1A",
    "outputId": "c104795b-e620-4179-af8c-6cf175b91ade"
   },
   "outputs": [
    {
     "name": "stdout",
     "output_type": "stream",
     "text": [
      "There are 11 locations to search for.\n"
     ]
    }
   ],
   "source": [
    "# reads in the excel data sheet\n",
    "# set workbook to excel file name \n",
    "workbook = 'AEPS 2023 Snapshot YM -copy.xlsx'\n",
    "table = pd.read_excel(workbook,sheet_name = 'Snapshot')\n",
    "\n",
    "\n",
    "city = table['City'].isnull().values.any()\n",
    "state = table['State'].isnull().values.any()\n",
    "EEO = table['EEO Job Number'].isnull().values.any()\n",
    "\n",
    "if city or state or EEO:\n",
    "  print(\"Check 'City', 'State', 'EEO Job Number' columns for blanks\")\n",
    "else:\n",
    "  # set up for finding the proportion a city makes up in their state, per job group\n",
    "  locations = table['City'] + \", \" + table['State']\n",
    "  job_number_city_state = table['EEO Job Number'].astype(str) + \",\" + table['City'] + \",\" + table['State']\n",
    "  job_number_state = table['EEO Job Number'].astype(str)+ \",\" + table['State']\n",
    "  job_number_city_state_count = job_number_city_state.map(job_number_city_state.value_counts())\n",
    "  job_number_state_count = job_number_state.map(job_number_state.value_counts())\n",
    "  df = pd.DataFrame([job_number_city_state,job_number_city_state_count,job_number_state,job_number_state_count]).T\n",
    "  df['proportion'] = df[1]/df[3]\n",
    "  df['Location'] = locations\n",
    "\n",
    "  # gets unique list of locations that make up at least 5% of their state.\n",
    "  unique_locations = df.loc[df['proportion'] >= 0.05]['Location'].unique()\n",
    "  number_of_locations = len(unique_locations)\n",
    "  print(f'There are {number_of_locations} locations to search for.')"
   ]
  },
  {
   "cell_type": "markdown",
   "metadata": {
    "id": "U0bNicnlXoaz"
   },
   "source": [
    "Webscraping Portion"
   ]
  },
  {
   "cell_type": "code",
   "execution_count": 5,
   "metadata": {
    "colab": {
     "base_uri": "https://localhost:8080/"
    },
    "executionInfo": {
     "elapsed": 663673,
     "status": "ok",
     "timestamp": 1678285261620,
     "user": {
      "displayName": "Hector Penado Jr.",
      "userId": "07507206677561105033"
     },
     "user_tz": 480
    },
    "id": "g7LpweLXBoOV",
    "outputId": "51faa939-dd23-4723-d3d4-4bf12cf3845c"
   },
   "outputs": [
    {
     "name": "stdout",
     "output_type": "stream",
     "text": [
      "Estimated runtime between 0.7 and 1.5 minutes.\n"
     ]
    },
    {
     "data": {
      "text/plain": [
       "{'Ft. Worth, TX': 'Dallas-Fort Worth-Arlington, TX Metro Area',\n",
       " 'Moffett Field, CA': 'Moffett Field, CA was not found',\n",
       " 'Beltsville, MD': 'Washington-Arlington-Alexandria, DC-VA-MD-WV Metro Area',\n",
       " 'Leander, TX': 'Austin-Round Rock-Georgetown, TX Metro Area',\n",
       " 'Colorado Springs, CO': 'Colorado Springs, CO Metro Area',\n",
       " 'Silverdale, WA': 'Bremerton-Silverdale-Port Orchard, WA Metro Area',\n",
       " 'John Day Dam, OR': 'John Day Dam, OR was not found',\n",
       " 'The Dalles, OR': 'The Dalles, OR Micro Area',\n",
       " 'Triangle, VA': 'Washington-Arlington-Alexandria, DC-VA-MD-WV Metro Area',\n",
       " 'Hooper, UT': 'Ogden-Clearfield, UT Metro Area',\n",
       " 'Austin, TX': 'Austin-Round Rock-Georgetown, TX Metro Area'}"
      ]
     },
     "execution_count": 5,
     "metadata": {},
     "output_type": "execute_result"
    }
   ],
   "source": [
    "#prints estimated runtime\n",
    "shortest = round(((number_of_locations * 1) + (number_of_locations * 3)) / 60,1)\n",
    "longest = round(((number_of_locations * 3) + (number_of_locations * 5)) / 60,1)\n",
    "\n",
    "print(f'Estimated runtime between {shortest} and {longest} minutes.')\n",
    "\n",
    "#s = Service(\"/usr/bin/chromedriver\")\n",
    "wd = webdriver.Chrome('./chromedriver')\n",
    "\n",
    "#dictionary that stores url for each city,state\n",
    "sites = {}\n",
    "for location in unique_locations:\n",
    "  #gets html info from query search of location into census reporter\n",
    "  url = \"https://censusreporter.org/search/?q=\"\n",
    "  wd.get(url+ location)\n",
    "  time.sleep(random.randint(1, 3))\n",
    "  #gets html page of search query for current location\n",
    "  html = wd.execute_script(\"return document.documentElement.outerHTML\")\n",
    "  soup = BeautifulSoup(html)\n",
    "  \n",
    "  #checks to see if there is an h3 tag. If there isn't, that means that the city,state entered don't exist.\n",
    "  #otherwise, get the first result from the search page.\n",
    "  if soup.find('h3') == None:\n",
    "    sites[location] = 'not found'\n",
    "  else:\n",
    "    location_site = soup.find('h3').find('a').get('href')\n",
    "    sites[location] = location_site\n",
    "\n",
    "\n",
    "#dictionary that stores the metro areas for each city,state\n",
    "location_info = {}\n",
    "test = {}\n",
    "# gets the metro areas,county, or micro area if available. Return state if not.\n",
    "for location in sites.keys():\n",
    "  #for city,states that weren't found in the loop above\n",
    "  if sites[location] == 'not found':\n",
    "    location_info[location] = f'{location} was not found'\n",
    "  else:\n",
    "    wd.get(sites[location])\n",
    "    time.sleep(random.randint(3, 5))\n",
    "    html = wd.execute_script(\"return document.documentElement.outerHTML\")\n",
    "    soup = BeautifulSoup(html)\n",
    "    #data stores all of the location info that is were the metro area is stored on census reporter\n",
    "    data = soup.find('header',class_='column-full').find('p').find_all('a')\n",
    "    test[location] = data\n",
    "    #position is the dictionary used to keep track of where in list info certain information is\n",
    "    position = {}\n",
    "    info = []\n",
    "    #for loop for getting the location text we want from the data variable\n",
    "    for x,loc_info in enumerate(data):\n",
    "      #each conditional statement checks to see at what position the metro/micro/county info is located and keeps track of it in dictionary position\n",
    "      if 'Metro' in loc_info.text:\n",
    "        position['Metro'] = x\n",
    "      elif 'Micro' in loc_info.text:\n",
    "        position['Micro'] = x\n",
    "      elif 'County' in loc_info.text:\n",
    "        position['County'] = x\n",
    "      else:\n",
    "        position[loc_info.text] = x\n",
    "      info.append(loc_info.text)\n",
    "\n",
    "#returns either metro, county, micro, or all available info depending on the following checks  \n",
    "    if \"Metro\" in position:\n",
    "      location_info[location] = info[position[\"Metro\"]]\n",
    "    elif \"Micro\" in position:\n",
    "      location_info[location] = info[position['Micro']]\n",
    "    elif \"County\" in position:\n",
    "      location_info[location] = info[position['County']]\n",
    "    else:\n",
    "      location_info[location] = \",\".join(info)\n",
    "\n",
    "#dictionary containing all the locations and their metro areas\n",
    "location_info"
   ]
  },
  {
   "cell_type": "code",
   "execution_count": 6,
   "metadata": {
    "colab": {
     "base_uri": "https://localhost:8080/",
     "height": 423
    },
    "executionInfo": {
     "elapsed": 148,
     "status": "ok",
     "timestamp": 1678285274897,
     "user": {
      "displayName": "Hector Penado Jr.",
      "userId": "07507206677561105033"
     },
     "user_tz": 480
    },
    "id": "3qNCXoElaA1c",
    "outputId": "bc9d08da-3f6d-42e7-d8d6-915379e09628"
   },
   "outputs": [
    {
     "data": {
      "text/html": [
       "<div>\n",
       "<style scoped>\n",
       "    .dataframe tbody tr th:only-of-type {\n",
       "        vertical-align: middle;\n",
       "    }\n",
       "\n",
       "    .dataframe tbody tr th {\n",
       "        vertical-align: top;\n",
       "    }\n",
       "\n",
       "    .dataframe thead th {\n",
       "        text-align: right;\n",
       "    }\n",
       "</style>\n",
       "<table border=\"1\" class=\"dataframe\">\n",
       "  <thead>\n",
       "    <tr style=\"text-align: right;\">\n",
       "      <th></th>\n",
       "      <th>City</th>\n",
       "      <th>State</th>\n",
       "      <th>Metro Area</th>\n",
       "    </tr>\n",
       "  </thead>\n",
       "  <tbody>\n",
       "    <tr>\n",
       "      <th>0</th>\n",
       "      <td>Ft. Worth</td>\n",
       "      <td>TX</td>\n",
       "      <td>Dallas-Fort Worth-Arlington, TX Metro Area</td>\n",
       "    </tr>\n",
       "    <tr>\n",
       "      <th>1</th>\n",
       "      <td>Ft. Worth</td>\n",
       "      <td>TX</td>\n",
       "      <td>Dallas-Fort Worth-Arlington, TX Metro Area</td>\n",
       "    </tr>\n",
       "    <tr>\n",
       "      <th>2</th>\n",
       "      <td>Moffett Field</td>\n",
       "      <td>CA</td>\n",
       "      <td>Moffett Field, CA was not found</td>\n",
       "    </tr>\n",
       "    <tr>\n",
       "      <th>3</th>\n",
       "      <td>Ft. Worth</td>\n",
       "      <td>TX</td>\n",
       "      <td>Dallas-Fort Worth-Arlington, TX Metro Area</td>\n",
       "    </tr>\n",
       "    <tr>\n",
       "      <th>4</th>\n",
       "      <td>Beltsville</td>\n",
       "      <td>MD</td>\n",
       "      <td>Washington-Arlington-Alexandria, DC-VA-MD-WV M...</td>\n",
       "    </tr>\n",
       "    <tr>\n",
       "      <th>...</th>\n",
       "      <td>...</td>\n",
       "      <td>...</td>\n",
       "      <td>...</td>\n",
       "    </tr>\n",
       "    <tr>\n",
       "      <th>410</th>\n",
       "      <td>Moffett Field</td>\n",
       "      <td>CA</td>\n",
       "      <td>Moffett Field, CA was not found</td>\n",
       "    </tr>\n",
       "    <tr>\n",
       "      <th>411</th>\n",
       "      <td>Moffett Field</td>\n",
       "      <td>CA</td>\n",
       "      <td>Moffett Field, CA was not found</td>\n",
       "    </tr>\n",
       "    <tr>\n",
       "      <th>412</th>\n",
       "      <td>Moffett Field</td>\n",
       "      <td>CA</td>\n",
       "      <td>Moffett Field, CA was not found</td>\n",
       "    </tr>\n",
       "    <tr>\n",
       "      <th>413</th>\n",
       "      <td>Moffett Field</td>\n",
       "      <td>CA</td>\n",
       "      <td>Moffett Field, CA was not found</td>\n",
       "    </tr>\n",
       "    <tr>\n",
       "      <th>414</th>\n",
       "      <td>Moffett Field</td>\n",
       "      <td>CA</td>\n",
       "      <td>Moffett Field, CA was not found</td>\n",
       "    </tr>\n",
       "  </tbody>\n",
       "</table>\n",
       "<p>415 rows × 3 columns</p>\n",
       "</div>"
      ],
      "text/plain": [
       "              City State                                         Metro Area\n",
       "0        Ft. Worth    TX         Dallas-Fort Worth-Arlington, TX Metro Area\n",
       "1        Ft. Worth    TX         Dallas-Fort Worth-Arlington, TX Metro Area\n",
       "2    Moffett Field    CA                    Moffett Field, CA was not found\n",
       "3        Ft. Worth    TX         Dallas-Fort Worth-Arlington, TX Metro Area\n",
       "4       Beltsville    MD  Washington-Arlington-Alexandria, DC-VA-MD-WV M...\n",
       "..             ...   ...                                                ...\n",
       "410  Moffett Field    CA                    Moffett Field, CA was not found\n",
       "411  Moffett Field    CA                    Moffett Field, CA was not found\n",
       "412  Moffett Field    CA                    Moffett Field, CA was not found\n",
       "413  Moffett Field    CA                    Moffett Field, CA was not found\n",
       "414  Moffett Field    CA                    Moffett Field, CA was not found\n",
       "\n",
       "[415 rows x 3 columns]"
      ]
     },
     "execution_count": 6,
     "metadata": {},
     "output_type": "execute_result"
    }
   ],
   "source": [
    "#function that maps metro areas to all locations (City,states) in the snapshot data. \n",
    "def metro_area(loc,loc_info):\n",
    "  # if location in location_info dictionary, return its metro area. Else, return its State.\n",
    "  return loc_info[loc] if loc in loc_info else loc.split(', ')[1]\n",
    "\n",
    "#applying the function above to the snapshot data\n",
    "table['Metro Area'] = df['Location'].apply(metro_area, args = [location_info])\n",
    "table[['City','State','Metro Area']]"
   ]
  },
  {
   "cell_type": "markdown",
   "metadata": {
    "id": "lUSx2XjrdMXT"
   },
   "source": [
    "## Output"
   ]
  },
  {
   "cell_type": "code",
   "execution_count": 7,
   "metadata": {
    "executionInfo": {
     "elapsed": 2287,
     "status": "ok",
     "timestamp": 1678285282158,
     "user": {
      "displayName": "Hector Penado Jr.",
      "userId": "07507206677561105033"
     },
     "user_tz": 480
    },
    "id": "j5lbeqzScYH_"
   },
   "outputs": [],
   "source": [
    "#outputs copy of snapshot data with addition of metro area column\n",
    "table.to_excel(\"output.xlsx\", index = False) "
   ]
  },
  {
   "cell_type": "markdown",
   "metadata": {
    "id": "wH9Or3lvWMqH"
   },
   "source": [
    "Notes: \n",
    " \n",
    "\n",
    "1.   Sometimes the first result from the search query doesn't return the place but something else like the county info (i.e. Orange, CA). I need to find a way to access the place rather than rely on the first result for more accuracy\n",
    "2.   Misspelled cities or cities that don't exist will return a 'not found'. For the time being, you have to look into those.\n",
    "3. Need to fix time complexity on the second for loop of webscraping code\n"
   ]
  }
 ],
 "metadata": {
  "colab": {
   "provenance": []
  },
  "kernelspec": {
   "display_name": "Python 3 (ipykernel)",
   "language": "python",
   "name": "python3"
  },
  "language_info": {
   "codemirror_mode": {
    "name": "ipython",
    "version": 3
   },
   "file_extension": ".py",
   "mimetype": "text/x-python",
   "name": "python",
   "nbconvert_exporter": "python",
   "pygments_lexer": "ipython3",
   "version": "3.9.13"
  }
 },
 "nbformat": 4,
 "nbformat_minor": 1
}
